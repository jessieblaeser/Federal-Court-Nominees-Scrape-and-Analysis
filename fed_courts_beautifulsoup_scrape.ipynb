{
 "cells": [
  {
   "cell_type": "code",
   "execution_count": 113,
   "id": "dc00dd41",
   "metadata": {},
   "outputs": [
    {
     "name": "stderr",
     "output_type": "stream",
     "text": [
      "\n",
      "\n",
      "====== WebDriver manager ======\n",
      "Current google-chrome version is 96.0.4664\n",
      "Get LATEST chromedriver version for 96.0.4664 google-chrome\n",
      "Driver [/Users/jessieblaeser/.wdm/drivers/chromedriver/mac64/96.0.4664.45/chromedriver] found in cache\n",
      "/var/folders/qx/nkh2pq6x3_193757ddxvrcf40000gp/T/ipykernel_52265/3405055154.py:20: DeprecationWarning: executable_path has been deprecated, please pass in a Service object\n",
      "  driver = webdriver.Chrome(ChromeDriverManager().install())\n"
     ]
    }
   ],
   "source": [
    "from bs4 import BeautifulSoup\n",
    "import requests\n",
    "my_url = \"https://www.judiciary.senate.gov/hearings\"\n",
    "raw_html = requests.get(my_url).content\n",
    "\n",
    "\n",
    "import time\n",
    "import requests\n",
    "\n",
    "from bs4 import BeautifulSoup \n",
    "from selenium import webdriver\n",
    "from selenium.webdriver.common.by import By\n",
    "from selenium.webdriver.support.ui import WebDriverWait\n",
    "from selenium.webdriver.support import expected_conditions as EC\n",
    "from selenium.webdriver.support.ui import Select\n",
    "\n",
    "from selenium import webdriver\n",
    "from webdriver_manager.chrome import ChromeDriverManager\n",
    "\n",
    "driver = webdriver.Chrome(ChromeDriverManager().install())"
   ]
  },
  {
   "cell_type": "code",
   "execution_count": 18,
   "id": "eaf616f0",
   "metadata": {},
   "outputs": [],
   "source": [
    "soup_doc = BeautifulSoup(raw_html, \"html.parser\")\n",
    "driver.get('https://www.judiciary.senate.gov/hearings')\n"
   ]
  },
  {
   "cell_type": "code",
   "execution_count": 81,
   "id": "65e61348",
   "metadata": {},
   "outputs": [],
   "source": [
    "#print(soup_doc.prettify())"
   ]
  },
  {
   "cell_type": "code",
   "execution_count": 52,
   "id": "4df04b1c",
   "metadata": {},
   "outputs": [],
   "source": [
    "the_tables = soup_doc.find_all(class_='table')\n",
    "#the_tables"
   ]
  },
  {
   "cell_type": "code",
   "execution_count": 79,
   "id": "a985157d",
   "metadata": {},
   "outputs": [],
   "source": [
    "all_nom_links = []\n",
    "for table in the_tables:\n",
    "    good_row = table.find_all('tr')\n",
    "    for row in good_row[6:]:\n",
    "#        print(\"it works\")\n",
    "        cells = row.find_all('td')\n",
    "        for cell in cells:\n",
    "            if cell.a is not None: \n",
    "                hrefs = cell.a['href']\n",
    "#                print(hrefs)\n",
    "                if \"Nominations\" in cell.a.text.strip():\n",
    "                    all_nom_links.append(cell.a['href'])\n",
    "            #would need to click to turn the page here and then run it all again 80x\n",
    "                    \n",
    "        \n",
    "#                 print(cell.a['href'])\n",
    "#                 print('----')\n",
    "                \n",
    "       \n",
    "# #            print(\"it works\")\n",
    "#             cells = row.find_all('td')\n",
    "#             print(cells)\n",
    "#             for cell in cells: \n",
    "#                 print(cell.a['href'])\n",
    "# ?\n",
    " #                 all_pdf_links.append(row.a['href'][3:])      "
   ]
  },
  {
   "cell_type": "code",
   "execution_count": 80,
   "id": "8e9dc3fc",
   "metadata": {},
   "outputs": [
    {
     "data": {
      "text/plain": [
       "['/meetings/11/24/2021/nominations',\n",
       " '/meetings/11/10/2021/nominations',\n",
       " '/meetings/10/27/2021/nominations',\n",
       " '/meetings/10/13/2021/nominations',\n",
       " '/meetings/09/29/2021/nominations']"
      ]
     },
     "execution_count": 80,
     "metadata": {},
     "output_type": "execute_result"
    }
   ],
   "source": [
    "all_nom_links"
   ]
  },
  {
   "cell_type": "code",
   "execution_count": 82,
   "id": "b6974e7b",
   "metadata": {},
   "outputs": [],
   "source": [
    "#now i'm switching manually to the new 'nomination' link\n",
    "    # from here, I am writing code that will grab all the hrefs to the SJQ forms \n",
    "\n",
    "from bs4 import BeautifulSoup\n",
    "import requests\n",
    "my_url = \"https://www.judiciary.senate.gov/meetings/11/24/2021/nominations\"\n",
    "raw_html = requests.get(my_url).content\n",
    "\n",
    "soup_doc = BeautifulSoup(raw_html, \"html.parser\")\n"
   ]
  },
  {
   "cell_type": "code",
   "execution_count": 92,
   "id": "d4e0e8cb",
   "metadata": {},
   "outputs": [],
   "source": [
    "items = soup_doc.find_all('li')\n",
    "#items"
   ]
  },
  {
   "cell_type": "code",
   "execution_count": 95,
   "id": "86da22a2",
   "metadata": {},
   "outputs": [
    {
     "data": {
      "text/plain": [
       "['/stark-sjq',\n",
       " '/calvert-sjq',\n",
       " '/corley-sjq',\n",
       " '/geraghty-sjq',\n",
       " '/ho-sjq',\n",
       " '/vidal-sjq']"
      ]
     },
     "execution_count": 95,
     "metadata": {},
     "output_type": "execute_result"
    }
   ],
   "source": [
    "\n",
    "sjq_pdf_links = []\n",
    "for item in items: \n",
    "    if 'SJQ' in item.text: \n",
    "#         print('working')\n",
    "#         print(item.a['href'])\n",
    "        sjq_pdf_links.append(item.a['href'])\n",
    "sjq_pdf_links\n"
   ]
  },
  {
   "cell_type": "code",
   "execution_count": 98,
   "id": "c448e668",
   "metadata": {},
   "outputs": [],
   "source": [
    "# we have successfully made a list of href links for the SJQ forms\n",
    "    # now we need to use the requests library to download each SJQ form onto the computer\n",
    "\n",
    "import time\n",
    "import requests\n",
    "\n",
    "for url in sjq_pdf_links:\n",
    "    time.sleep(2)\n",
    "    link = 'https://www.judiciary.senate.gov/' + url\n",
    "    file_name = \"/Users/jessieblaeser/Documents/databases_fall2021/final_project/sjq_pdfs/\" + url.split('/')[-1]\n",
    "    r = requests.get(link, stream=True)\n",
    "    with open(file_name, 'wb') as Pypdf:\n",
    "        for chunk in r.iter_content():\n",
    "            if chunk: \n",
    "                Pypdf.write(chunk)\n",
    "    "
   ]
  },
  {
   "cell_type": "code",
   "execution_count": null,
   "id": "1bb935c1",
   "metadata": {},
   "outputs": [],
   "source": [
    "# hoozah! we have successfully downloaded each SJQ form into a new sjq_pdfs folder \n",
    "    # BUT, this was only for the FIRST \"Nominations\" href --> which we also MANUALLY clicked on, rather than getting\n",
    "        # the computer to click on it for us. \n",
    "        \n",
    "# So...from here, I need to add the code above into the loop for each \"Nominations\" button \n",
    "    # In such a way that it will go to each Nominations button, then grab all the SJQ hrefs, then download all the SJQ forms "
   ]
  },
  {
   "cell_type": "code",
   "execution_count": 119,
   "id": "a49b0c72",
   "metadata": {},
   "outputs": [],
   "source": [
    "from bs4 import BeautifulSoup\n",
    "my_url = \"https://www.judiciary.senate.gov/hearings\"\n",
    "raw_html = requests.get(my_url).content\n",
    "\n",
    "soup_doc = BeautifulSoup(raw_html, \"html.parser\")\n",
    "driver.get('https://www.judiciary.senate.gov/hearings')\n",
    "items = soup_doc.find_all('li')\n"
   ]
  },
  {
   "cell_type": "code",
   "execution_count": 120,
   "id": "f71d80bc",
   "metadata": {},
   "outputs": [
    {
     "name": "stdout",
     "output_type": "stream",
     "text": [
      "working\n",
      "/stark-sjq\n",
      "-----\n",
      "working\n",
      "/calvert-sjq\n",
      "-----\n",
      "working\n",
      "/corley-sjq\n",
      "-----\n",
      "working\n",
      "/geraghty-sjq\n",
      "-----\n",
      "working\n",
      "/ho-sjq\n",
      "-----\n",
      "working\n",
      "/vidal-sjq\n",
      "-----\n"
     ]
    }
   ],
   "source": [
    "table = driver.find_element(By.TAG_NAME, 'table')\n",
    "rows = table.find_elements(By.TAG_NAME, 'tr')\n",
    "\n",
    "for row in rows[6:]: \n",
    "    try: \n",
    "        str_first_cell = row.find_element(By.TAG_NAME, 'a')\n",
    "        if \"Nominations\" in str_first_cell.text:\n",
    "            str_first_cell.click()\n",
    "            sjq_pdf_links = []\n",
    "            for item in items: \n",
    "                if 'SJQ' in item.text: \n",
    "#                    sjq_pdf_links.append(item.a['href'])\n",
    "                    print('working')\n",
    "                    print(item.a['href'])\n",
    "                    print('-----')\n",
    "            driver.back()\n",
    "    except: \n",
    "        pass\n",
    "#         sjq_pdf_links.append(item.a['href'])\n",
    "# sjq_pdf_links\n",
    "\n",
    "            \n",
    "            \n",
    "#             table = driver.find_element(By.XPATH, '//*[@id=\"hearingcontent\"]/section[2]/div[2]/div/ul')\n",
    "#             items = table.find_elements(By.TAG_NAME, 'li')\n",
    "#             for item in items: \n",
    "#                 if 'SJQ' in item.text:\n",
    "#                     item.find_element(By.TAG_NAME, 'a').click()\n",
    "#                     driver.switch_to.window(driver.window_handles[-1])\n",
    "#                         #This is where your next scraping work should go to get information from each fomr\n",
    "#                     driver.close()\n",
    "#                     driver.switch_to.window(driver.window_handles[0])\n",
    "#                    #print('this is an SJQ form')\n",
    "#                 else: \n",
    "#                     pass"
   ]
  },
  {
   "cell_type": "code",
   "execution_count": null,
   "id": "34ca91b6",
   "metadata": {},
   "outputs": [],
   "source": []
  }
 ],
 "metadata": {
  "kernelspec": {
   "display_name": "Python 3 (ipykernel)",
   "language": "python",
   "name": "python3"
  },
  "language_info": {
   "codemirror_mode": {
    "name": "ipython",
    "version": 3
   },
   "file_extension": ".py",
   "mimetype": "text/x-python",
   "name": "python",
   "nbconvert_exporter": "python",
   "pygments_lexer": "ipython3",
   "version": "3.10.0"
  }
 },
 "nbformat": 4,
 "nbformat_minor": 5
}
